{
  "nbformat": 4,
  "nbformat_minor": 0,
  "metadata": {
    "colab": {
      "name": "QuoraQuestionPair.ipynb",
      "version": "0.3.2",
      "provenance": [],
      "collapsed_sections": [],
      "machine_shape": "hm",
      "include_colab_link": true
    },
    "kernelspec": {
      "name": "python3",
      "display_name": "Python 3"
    },
    "accelerator": "GPU"
  },
  "cells": [
    {
      "cell_type": "markdown",
      "metadata": {
        "id": "view-in-github",
        "colab_type": "text"
      },
      "source": [
        "<a href=\"https://colab.research.google.com/github/joshtummala/Question-Similarity/blob/master/QuoraQuestionPair.ipynb\" target=\"_parent\"><img src=\"https://colab.research.google.com/assets/colab-badge.svg\" alt=\"Open In Colab\"/></a>"
      ]
    },
    {
      "cell_type": "code",
      "metadata": {
        "id": "adebdCA7Inhh",
        "colab_type": "code",
        "colab": {}
      },
      "source": [
        "# Install the latest Tensorflow version.\n",
        "!pip3 install --quiet \"tensorflow>=1.7\"\n",
        "# Install TF-Hub.\n",
        "!pip3 install --quiet tensorflow-hub"
      ],
      "execution_count": 0,
      "outputs": []
    },
    {
      "cell_type": "code",
      "metadata": {
        "id": "fw5bnGIGJW7V",
        "colab_type": "code",
        "outputId": "f6f4d96c-8830-423d-e452-e9003845b327",
        "colab": {
          "base_uri": "https://localhost:8080/",
          "height": 349
        }
      },
      "source": [
        "# mounting the drive\n",
        "from google.colab import drive\n",
        "drive.mount('/content/drive')\n",
        "\n",
        "# Install the PyDrive wrapper & import libraries.\n",
        "!pip install -U -q PyDrive\n",
        "from pydrive.auth import GoogleAuth\n",
        "from pydrive.drive import GoogleDrive\n",
        "from google.colab import auth\n",
        "from oauth2client.client import GoogleCredentials\n",
        "\n",
        "# Authenticate and create the PyDrive client.\n",
        "auth.authenticate_user()\n",
        "gauth = GoogleAuth()\n",
        "gauth.credentials = GoogleCredentials.get_application_default()\n",
        "drive = GoogleDrive(gauth)"
      ],
      "execution_count": 0,
      "outputs": [
        {
          "output_type": "stream",
          "text": [
            "Go to this URL in a browser: https://accounts.google.com/o/oauth2/auth?client_id=947318989803-6bn6qk8qdgf4n4g3pfee6491hc0brc4i.apps.googleusercontent.com&redirect_uri=urn%3Aietf%3Awg%3Aoauth%3A2.0%3Aoob&scope=email%20https%3A%2F%2Fwww.googleapis.com%2Fauth%2Fdocs.test%20https%3A%2F%2Fwww.googleapis.com%2Fauth%2Fdrive%20https%3A%2F%2Fwww.googleapis.com%2Fauth%2Fdrive.photos.readonly%20https%3A%2F%2Fwww.googleapis.com%2Fauth%2Fpeopleapi.readonly&response_type=code\n",
            "\n",
            "Enter your authorization code:\n",
            "··········\n",
            "Mounted at /content/drive\n",
            "\u001b[K     |████████████████████████████████| 993kB 2.9MB/s \n",
            "\u001b[?25h  Building wheel for PyDrive (setup.py) ... \u001b[?25l\u001b[?25hdone\n"
          ],
          "name": "stdout"
        }
      ]
    },
    {
      "cell_type": "code",
      "metadata": {
        "id": "MbahFFC0FS7o",
        "colab_type": "code",
        "colab": {}
      },
      "source": [
        "import tensorflow as tf\n",
        "import numpy as np\n",
        "import os\n",
        "import pandas as pd\n",
        "import tensorflow_hub as hub\n",
        "import re\n",
        "import matplotlib.pyplot as plt"
      ],
      "execution_count": 0,
      "outputs": []
    },
    {
      "cell_type": "code",
      "metadata": {
        "id": "-8J7d6gEPI77",
        "colab_type": "code",
        "colab": {}
      },
      "source": [
        "module_url = \"https://tfhub.dev/google/universal-sentence-encoder/2\" #@param [\"https://tfhub.dev/google/universal-sentence-encoder/2\", \"https://tfhub.dev/google/universal-sentence-encoder-large/3\"]\n",
        "# Import the Universal Sentence Encoder's TF Hub module\n",
        "embed = hub.Module(module_url)"
      ],
      "execution_count": 0,
      "outputs": []
    },
    {
      "cell_type": "code",
      "metadata": {
        "id": "4EuPLwa2JrnP",
        "colab_type": "code",
        "colab": {}
      },
      "source": [
        "dir_name = \"/content/drive/My Drive/questions.csv\"\n",
        "# question1 = np.array(pd.read_csv(dir_name, usecols=[\"question1\"]))\n",
        "# question2 = np.array(pd.read_csv(dir_name, usecols=[\"question2\"]))\n",
        "# question1 = question1.tolist()\n",
        "# question2 = question2.tolist()\n",
        "# temp1= []\n",
        "# temp2= []\n",
        "# for i in range(len(question1)):\n",
        "#     temp1.append(str(question1[i][0]))\n",
        "#     temp2.append(str(question2[i][0]))\n",
        "# temp1.append(\"\")\n",
        "# temp2.append(\"\")\n",
        "# question1 = np.split(np.array(temp1), 64)\n",
        "# question2 = np.split(np.array(temp2), 64)"
      ],
      "execution_count": 0,
      "outputs": []
    },
    {
      "cell_type": "code",
      "metadata": {
        "id": "7Oq7YBYQp3M2",
        "colab_type": "code",
        "colab": {}
      },
      "source": [
        "\n",
        "def process_text(text):\n",
        "    text = text.encode('ascii', errors='ignore').decode()\n",
        "    text = text.lower()\n",
        "    text = re.sub(r'http\\S+', ' ', text)\n",
        "    text = re.sub(r'#+', ' ', text )\n",
        "    text = re.sub(r'@[A-Za-z0-9]+', ' ', text)\n",
        "    text = re.sub(r\"([A-Za-z]+)'s\", r\"\\1 is\", text)\n",
        "    #text = re.sub(r\"\\'s\", \" \", text)\n",
        "    text = re.sub(r\"\\'ve\", \" have \", text)\n",
        "    text = re.sub(r\"won't\", \"will not \", text)\n",
        "    text = re.sub(r\"isn't\", \"is not \", text)\n",
        "    text = re.sub(r\"can't\", \"can not \", text)\n",
        "    text = re.sub(r\"n't\", \" not \", text)\n",
        "    text = re.sub(r\"i'm\", \"i am \", text)\n",
        "    text = re.sub(r\"\\'re\", \" are \", text)\n",
        "    text = re.sub(r\"\\'d\", \" would \", text)\n",
        "    text = re.sub(r\"\\'ll\", \" will \", text)\n",
        "    text = re.sub('\\W', ' ', text)\n",
        "    text = re.sub(r'\\d+', ' ', text)\n",
        "    text = re.sub('\\s+', ' ', text)\n",
        "    text = text.strip()\n",
        "    return text"
      ],
      "execution_count": 0,
      "outputs": []
    },
    {
      "cell_type": "code",
      "metadata": {
        "id": "2QkehdIysgm7",
        "colab_type": "code",
        "colab": {}
      },
      "source": [
        "# question1 = np.array(list(map(lambda x : [process_text(x)], temp1)))\n",
        "# question2 = np.array(list(map(lambda x : [process_text(x)], temp1)))"
      ],
      "execution_count": 0,
      "outputs": []
    },
    {
      "cell_type": "code",
      "metadata": {
        "id": "B2G_ivISVsL6",
        "colab_type": "code",
        "colab": {}
      },
      "source": [
        "# !pip install progressbar2\n",
        "# import time\n",
        "# import progressbar"
      ],
      "execution_count": 0,
      "outputs": []
    },
    {
      "cell_type": "code",
      "metadata": {
        "id": "0se9cGqwPYGI",
        "colab_type": "code",
        "colab": {}
      },
      "source": [
        "# widgets=[\n",
        "#     ' [', progressbar.Timer(), '] ',\n",
        "#     progressbar.Bar(),\n",
        "#     ' (', progressbar.ETA(), ') ',\n",
        "# ]\n",
        "# embeddings_q1 = []\n",
        "# embeddings_q2 = []\n",
        "# for x in progressbar.progressbar(range(len(question1)), widgets=widgets):\n",
        "#   with tf.Session() as session:\n",
        "#     session.run([tf.global_variables_initializer(), tf.tables_initializer()])\n",
        "#     embeddings_q1.append(session.run(embed(question1[x])))\n",
        "#     embeddings_q2.append(session.run(embed(question2[x])))\n",
        "\n",
        "# np.save(\"/content/embeddings_q1.1\", embeddings_q1)\n",
        "# np.save(\"/content/embeddings_q2.1\", embeddings_q2)\n"
      ],
      "execution_count": 0,
      "outputs": []
    },
    {
      "cell_type": "code",
      "metadata": {
        "id": "-J7ox8Uop2Ok",
        "colab_type": "code",
        "colab": {}
      },
      "source": [
        "embeddings_q1 = np.load('/content/drive/My Drive/embeddings_q1.npy')\n",
        "embeddings_q2 = np.load('/content/drive/My Drive/embeddings_q2.npy')"
      ],
      "execution_count": 0,
      "outputs": []
    },
    {
      "cell_type": "code",
      "metadata": {
        "id": "p8RBtawY-Wey",
        "colab_type": "code",
        "colab": {}
      },
      "source": [
        "is_same = pd.read_csv(dir_name, usecols=[\"is_duplicate\"])\n",
        "is_same = is_same.values\n",
        "is_same = np.append(is_same, 0)\n",
        "is_same = is_same.reshape(404352,1)"
      ],
      "execution_count": 0,
      "outputs": []
    },
    {
      "cell_type": "code",
      "metadata": {
        "id": "iHlxYkmeAVsc",
        "colab_type": "code",
        "colab": {}
      },
      "source": [
        "question1 = []\n",
        "for i in embeddings_q1:\n",
        "  for x in i:\n",
        "    question1.append(x)\n",
        "question2 = []\n",
        "for i in embeddings_q1:\n",
        "  for x in i:\n",
        "    question2.append(x)\n",
        "question1 = np.array(question1).reshape(404352,1,512)\n",
        "question2 = np.array(question2).reshape(404352,1,512)"
      ],
      "execution_count": 0,
      "outputs": []
    },
    {
      "cell_type": "code",
      "metadata": {
        "id": "Mv3v7ukOplLp",
        "colab_type": "code",
        "colab": {}
      },
      "source": [
        "def manhattan_distance(left, right):\n",
        "    return tf.keras.backend.exp(-tf.keras.backend.sum(tf.keras.backend.abs(left-right), axis=1, keepdims=True))\n",
        "\n",
        "def cosine_sim(left, right):\n",
        "  left = tf.nn.l2_normalize(left, axis=1)\n",
        "  right = tf.nn.l2_normalize(right, axis=1)\n",
        "  cosine_similarities = tf.reduce_sum(tf.multiply(left, right), axis=1)\n",
        "  clip_cosine_similarities = tf.clip_by_value(cosine_similarities, -1.0, 1.0)\n",
        "  sim_scores = 1.0 - tf.acos(clip_cosine_similarities)\n",
        "  return sim_scores"
      ],
      "execution_count": 0,
      "outputs": []
    },
    {
      "cell_type": "code",
      "metadata": {
        "id": "nBMI0NpApsos",
        "colab_type": "code",
        "colab": {}
      },
      "source": [
        "n_hidden = 50\n",
        "batch_size = 128\n",
        "n_epoch = 20\n",
        "\n",
        "left_in = tf.keras.Input(shape=(1,512), dtype='float32')\n",
        "right_in = tf.keras.Input(shape=(1,512), dtype='float32')\n",
        "\n",
        "conv_layer = tf.keras.layers.Conv1D(filters=1, kernel_size=1)\n",
        "left_conv = conv_layer(left_in)\n",
        "right_conv = conv_layer(right_in)\n",
        "\n",
        "batch_norm = tf.keras.layers.BatchNormalization()\n",
        "left_norm = batch_norm(left_conv)\n",
        "right_norm = batch_norm(right_conv)\n",
        "\n",
        "lstm_layer = tf.keras.layers.Bidirectional(tf.keras.layers.CuDNNLSTM(n_hidden,\n",
        "                                       return_sequences=True,\n",
        "                                       recurrent_initializer='glorot_uniform'), 'ave')\n",
        "left_out = lstm_layer(left_norm)\n",
        "right_out = lstm_layer(right_norm)\n",
        "\n",
        "distance = tf.keras.layers.Lambda(function=lambda x: manhattan_distance(x[0], x[1]),\n",
        "                                    output_shape=lambda x: (x[0][0], 1))([left_out, right_out])\n",
        "\n",
        "den_1 = tf.keras.layers.Dense(50, activation='relu') (distance)\n",
        "evalu = tf.keras.layers.Dense(1, activation='tanh') (den_1)\n",
        "                  \n",
        "\n",
        "model = tf.keras.Model([left_in, right_in], [evalu])\n",
        "model.compile(loss='mean_squared_error', optimizer=tf.train.AdamOptimizer(learning_rate=0.1), metrics=['accuracy'])\n",
        "model.trainable = True"
      ],
      "execution_count": 0,
      "outputs": []
    },
    {
      "cell_type": "code",
      "metadata": {
        "id": "FDN_S7RmcE69",
        "colab_type": "code",
        "outputId": "6925098e-84cd-44e9-fb15-a33c9d16fe3b",
        "colab": {
          "base_uri": "https://localhost:8080/",
          "height": 493
        }
      },
      "source": [
        "model.summary()"
      ],
      "execution_count": 0,
      "outputs": [
        {
          "output_type": "stream",
          "text": [
            "Model: \"model_27\"\n",
            "__________________________________________________________________________________________________\n",
            "Layer (type)                    Output Shape         Param #     Connected to                     \n",
            "==================================================================================================\n",
            "input_69 (InputLayer)           [(None, 1, 512)]     0                                            \n",
            "__________________________________________________________________________________________________\n",
            "input_70 (InputLayer)           [(None, 1, 512)]     0                                            \n",
            "__________________________________________________________________________________________________\n",
            "conv1d_34 (Conv1D)              (None, 1, 1)         513         input_69[0][0]                   \n",
            "                                                                 input_70[0][0]                   \n",
            "__________________________________________________________________________________________________\n",
            "batch_normalization_34 (BatchNo (None, 1, 1)         4           conv1d_34[0][0]                  \n",
            "                                                                 conv1d_34[1][0]                  \n",
            "__________________________________________________________________________________________________\n",
            "bidirectional_23 (Bidirectional (None, 1, 50)        21200       batch_normalization_34[0][0]     \n",
            "                                                                 batch_normalization_34[1][0]     \n",
            "__________________________________________________________________________________________________\n",
            "lambda_33 (Lambda)              (None, 50)           0           bidirectional_23[0][0]           \n",
            "                                                                 bidirectional_23[1][0]           \n",
            "__________________________________________________________________________________________________\n",
            "dense_11 (Dense)                (None, 50)           2550        lambda_33[0][0]                  \n",
            "__________________________________________________________________________________________________\n",
            "dense_12 (Dense)                (None, 1)            51          dense_11[0][0]                   \n",
            "==================================================================================================\n",
            "Total params: 24,318\n",
            "Trainable params: 24,316\n",
            "Non-trainable params: 2\n",
            "__________________________________________________________________________________________________\n"
          ],
          "name": "stdout"
        }
      ]
    },
    {
      "cell_type": "code",
      "metadata": {
        "id": "YwrYXasr-2C2",
        "colab_type": "code",
        "outputId": "baee70c8-4caf-4cca-c717-42884153a691",
        "colab": {
          "base_uri": "https://localhost:8080/",
          "height": 714
        }
      },
      "source": [
        "malstm_trained = model.fit([question1,\n",
        "                            question2],\n",
        "                           is_same,\n",
        "                           batch_size=batch_size,\n",
        "                           epochs=n_epoch,\n",
        "                           validation_split=0.2)"
      ],
      "execution_count": 0,
      "outputs": [
        {
          "output_type": "stream",
          "text": [
            "Train on 323481 samples, validate on 80871 samples\n",
            "Epoch 1/20\n",
            "323481/323481 [==============================] - 40s 122us/sample - loss: 2.1142 - acc: 0.6284 - val_loss: 2.0793 - val_acc: 0.6402\n",
            "Epoch 2/20\n",
            "323481/323481 [==============================] - 36s 110us/sample - loss: 2.1148 - acc: 0.6284 - val_loss: 2.0793 - val_acc: 0.6402\n",
            "Epoch 3/20\n",
            "323481/323481 [==============================] - 36s 110us/sample - loss: 2.1148 - acc: 0.6284 - val_loss: 2.0793 - val_acc: 0.6402\n",
            "Epoch 4/20\n",
            "323481/323481 [==============================] - 36s 110us/sample - loss: 2.1148 - acc: 0.6284 - val_loss: 2.0793 - val_acc: 0.6402\n",
            "Epoch 5/20\n",
            "323481/323481 [==============================] - 37s 114us/sample - loss: 2.1148 - acc: 0.6284 - val_loss: 2.0793 - val_acc: 0.6402\n",
            "Epoch 6/20\n",
            "323481/323481 [==============================] - 36s 110us/sample - loss: 2.1148 - acc: 0.6284 - val_loss: 2.0793 - val_acc: 0.6402\n",
            "Epoch 7/20\n",
            "323481/323481 [==============================] - 36s 110us/sample - loss: 2.1148 - acc: 0.6284 - val_loss: 2.0793 - val_acc: 0.6402\n",
            "Epoch 8/20\n",
            "323481/323481 [==============================] - 36s 111us/sample - loss: 2.1148 - acc: 0.6284 - val_loss: 2.0793 - val_acc: 0.6402\n",
            "Epoch 9/20\n",
            "323481/323481 [==============================] - 36s 110us/sample - loss: 2.1148 - acc: 0.6284 - val_loss: 2.0793 - val_acc: 0.6402\n",
            "Epoch 10/20\n",
            "323481/323481 [==============================] - 36s 111us/sample - loss: 2.1148 - acc: 0.6284 - val_loss: 2.0793 - val_acc: 0.6402\n",
            "Epoch 11/20\n",
            "323481/323481 [==============================] - 36s 110us/sample - loss: 2.1148 - acc: 0.6284 - val_loss: 2.0793 - val_acc: 0.6402\n",
            "Epoch 12/20\n",
            "323481/323481 [==============================] - 36s 110us/sample - loss: 2.1148 - acc: 0.6284 - val_loss: 2.0793 - val_acc: 0.6402\n",
            "Epoch 13/20\n",
            "323481/323481 [==============================] - 35s 110us/sample - loss: 2.1148 - acc: 0.6284 - val_loss: 2.0793 - val_acc: 0.6402\n",
            "Epoch 14/20\n",
            "323481/323481 [==============================] - 37s 113us/sample - loss: 2.1148 - acc: 0.6284 - val_loss: 2.0793 - val_acc: 0.6402\n",
            "Epoch 15/20\n",
            "323481/323481 [==============================] - 36s 111us/sample - loss: 2.1148 - acc: 0.6284 - val_loss: 2.0793 - val_acc: 0.6402\n",
            "Epoch 16/20\n",
            "323481/323481 [==============================] - 36s 112us/sample - loss: 2.1148 - acc: 0.6284 - val_loss: 2.0793 - val_acc: 0.6402\n",
            "Epoch 17/20\n",
            "323481/323481 [==============================] - 36s 110us/sample - loss: 2.1148 - acc: 0.6284 - val_loss: 2.0793 - val_acc: 0.6402\n",
            "Epoch 18/20\n",
            "323481/323481 [==============================] - 36s 110us/sample - loss: 2.1148 - acc: 0.6284 - val_loss: 2.0793 - val_acc: 0.6402\n",
            "Epoch 19/20\n",
            "323481/323481 [==============================] - 36s 111us/sample - loss: 2.1148 - acc: 0.6284 - val_loss: 2.0793 - val_acc: 0.6402\n",
            "Epoch 20/20\n",
            "323481/323481 [==============================] - 36s 110us/sample - loss: 2.1148 - acc: 0.6284 - val_loss: 2.0793 - val_acc: 0.6402\n"
          ],
          "name": "stdout"
        }
      ]
    },
    {
      "cell_type": "code",
      "metadata": {
        "id": "3ZOpGm7zmOaR",
        "colab_type": "code",
        "colab": {}
      },
      "source": [
        "model.get_weights()"
      ],
      "execution_count": 0,
      "outputs": []
    },
    {
      "cell_type": "code",
      "metadata": {
        "id": "OPnrRxyecL0P",
        "colab_type": "code",
        "outputId": "e7af6e1f-7dbb-4f16-b3ff-6747fad5340f",
        "colab": {
          "base_uri": "https://localhost:8080/",
          "height": 573
        }
      },
      "source": [
        "# Plot accuracy\n",
        "plt.plot(malstm_trained.history['acc'])\n",
        "plt.plot(malstm_trained.history['val_acc'])\n",
        "plt.title('Model Accuracy')\n",
        "plt.ylabel('Accuracy')\n",
        "plt.xlabel('Epoch')\n",
        "plt.legend(['Train', 'Validation'], loc='upper left')\n",
        "plt.show()\n",
        "\n",
        "# Plot loss\n",
        "plt.plot(malstm_trained.history['loss'])\n",
        "plt.plot(malstm_trained.history['val_loss'])\n",
        "plt.title('Model Loss')\n",
        "plt.ylabel('Loss')\n",
        "plt.xlabel('Epoch')\n",
        "plt.legend(['Train', 'Validation'], loc='upper right')\n",
        "plt.show()"
      ],
      "execution_count": 0,
      "outputs": [
        {
          "output_type": "display_data",
          "data": {
            "image/png": "[encoded data removed]",
            "text/plain": [
              "<Figure size 432x288 with 1 Axes>"
            ]
          },
          "metadata": {
            "tags": []
          }
        },
        {
          "output_type": "display_data",
          "data": {
            "image/png": "[encoded data removed]",
            "text/plain": [
              "<Figure size 432x288 with 1 Axes>"
            ]
          },
          "metadata": {
            "tags": []
          }
        }
      ]
    }
  ]
}